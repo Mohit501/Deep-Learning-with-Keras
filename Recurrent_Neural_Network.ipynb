{
  "nbformat": 4,
  "nbformat_minor": 0,
  "metadata": {
    "colab": {
      "name": "Recurrent Neural Network",
      "provenance": [],
      "authorship_tag": "ABX9TyOX2q8CMRMIbp8zkyJk62Ng",
      "include_colab_link": true
    },
    "kernelspec": {
      "name": "python3",
      "display_name": "Python 3"
    }
  },
  "cells": [
    {
      "cell_type": "markdown",
      "metadata": {
        "id": "view-in-github",
        "colab_type": "text"
      },
      "source": [
        "<a href=\"https://colab.research.google.com/github/Mohit501/Deep-Learning-with-Keras/blob/main/Recurrent_Neural_Network.ipynb\" target=\"_parent\"><img src=\"https://colab.research.google.com/assets/colab-badge.svg\" alt=\"Open In Colab\"/></a>"
      ]
    },
    {
      "cell_type": "markdown",
      "metadata": {
        "id": "bItQd3lpPSTv"
      },
      "source": [
        "## **Required Libraries**"
      ]
    },
    {
      "cell_type": "code",
      "metadata": {
        "id": "Mp66OZjqIkbW"
      },
      "source": [
        "import numpy as np\r\n",
        "from tensorflow import keras\r\n",
        "from keras.models import Sequential\r\n",
        "from keras.layers import Dense,Dropout,SimpleRNN\r\n",
        "from keras.utils import to_categorical,plot_model\r\n",
        "from keras.datasets import mnist"
      ],
      "execution_count": 1,
      "outputs": []
    },
    {
      "cell_type": "markdown",
      "metadata": {
        "id": "-Pm4RPMrPYR1"
      },
      "source": [
        "## **Loading Data**"
      ]
    },
    {
      "cell_type": "code",
      "metadata": {
        "id": "c7DpLWxQPbHM",
        "colab": {
          "base_uri": "https://localhost:8080/"
        },
        "outputId": "623e18d7-8501-47c6-a098-bf0d5a39ab47"
      },
      "source": [
        "(x_train,y_train),(x_test,y_test) = mnist.load_data()"
      ],
      "execution_count": 2,
      "outputs": [
        {
          "output_type": "stream",
          "text": [
            "Downloading data from https://storage.googleapis.com/tensorflow/tf-keras-datasets/mnist.npz\n",
            "11493376/11490434 [==============================] - 0s 0us/step\n"
          ],
          "name": "stdout"
        }
      ]
    },
    {
      "cell_type": "markdown",
      "metadata": {
        "id": "PNc7AmYeQHnY"
      },
      "source": [
        "# **Pre-Processing**"
      ]
    },
    {
      "cell_type": "markdown",
      "metadata": {
        "id": "A4OjMxnhPnFw"
      },
      "source": [
        "**Computing number of labels**"
      ]
    },
    {
      "cell_type": "code",
      "metadata": {
        "id": "iqDqJvmkPlrD"
      },
      "source": [
        "num_labels = len(np.unique(y_train))"
      ],
      "execution_count": 3,
      "outputs": []
    },
    {
      "cell_type": "markdown",
      "metadata": {
        "id": "3-kTvxUdQFJA"
      },
      "source": [
        "**Converting to one-hot vector**"
      ]
    },
    {
      "cell_type": "code",
      "metadata": {
        "id": "V0hltZUSP6YS"
      },
      "source": [
        "y_train = to_categorical(y_train)\r\n",
        "y_test = to_categorical(y_test)"
      ],
      "execution_count": 4,
      "outputs": []
    },
    {
      "cell_type": "markdown",
      "metadata": {
        "id": "2nlAWvH_RAG7"
      },
      "source": [
        "**Image Dimensions**"
      ]
    },
    {
      "cell_type": "code",
      "metadata": {
        "id": "4x-mKbKgQpeV"
      },
      "source": [
        "image_size = x_train.shape[1]"
      ],
      "execution_count": 5,
      "outputs": []
    },
    {
      "cell_type": "markdown",
      "metadata": {
        "id": "SR5b58IPRldo"
      },
      "source": [
        "**Resize and Normalize**"
      ]
    },
    {
      "cell_type": "code",
      "metadata": {
        "id": "Odede9JlRklK"
      },
      "source": [
        "x_train = np.reshape(x_train,[-1,image_size,image_size])\r\n",
        "x_train = x_train.astype('float32')/255.0\r\n",
        "x_test = np.reshape(x_test,[-1,image_size,image_size])\r\n",
        "x_test = x_test.astype('float32')/255.0"
      ],
      "execution_count": 6,
      "outputs": []
    },
    {
      "cell_type": "code",
      "metadata": {
        "colab": {
          "base_uri": "https://localhost:8080/"
        },
        "id": "-zByaGSIR5fH",
        "outputId": "7ef2539f-392f-4628-c223-3cbfb847a848"
      },
      "source": [
        "x_train.shape"
      ],
      "execution_count": 7,
      "outputs": [
        {
          "output_type": "execute_result",
          "data": {
            "text/plain": [
              "(60000, 28, 28)"
            ]
          },
          "metadata": {
            "tags": []
          },
          "execution_count": 7
        }
      ]
    },
    {
      "cell_type": "code",
      "metadata": {
        "colab": {
          "base_uri": "https://localhost:8080/"
        },
        "id": "BAAzVT9TR6-n",
        "outputId": "8fcf1962-0b9f-44c3-bdc0-2c69282ded19"
      },
      "source": [
        "x_test.shape"
      ],
      "execution_count": 8,
      "outputs": [
        {
          "output_type": "execute_result",
          "data": {
            "text/plain": [
              "(10000, 28, 28)"
            ]
          },
          "metadata": {
            "tags": []
          },
          "execution_count": 8
        }
      ]
    },
    {
      "cell_type": "markdown",
      "metadata": {
        "id": "1XUYejHNzmTM"
      },
      "source": [
        "# **Recurrent Neural Network**"
      ]
    },
    {
      "cell_type": "code",
      "metadata": {
        "id": "IMPvnJb5y-tb"
      },
      "source": [
        "model = Sequential()\r\n",
        "model.add(SimpleRNN(units=256,dropout = 0.2,input_shape = (image_size,image_size)))\r\n",
        "model.add(Dense(num_labels,activation='softmax'))"
      ],
      "execution_count": 9,
      "outputs": []
    },
    {
      "cell_type": "code",
      "metadata": {
        "colab": {
          "base_uri": "https://localhost:8080/",
          "height": 272
        },
        "id": "_PJrfJjOzR4Y",
        "outputId": "d6c29479-876b-49f4-cfcf-e36eab73e4ef"
      },
      "source": [
        "plot_model(model)"
      ],
      "execution_count": 10,
      "outputs": [
        {
          "output_type": "execute_result",
          "data": {
            "image/png": "[encoded data removed]",
            "text/plain": [
              "<IPython.core.display.Image object>"
            ]
          },
          "metadata": {
            "tags": []
          },
          "execution_count": 10
        }
      ]
    },
    {
      "cell_type": "code",
      "metadata": {
        "id": "cCxxPBhEzT8y"
      },
      "source": [
        "model.compile(optimizer='adam',loss = 'categorical_crossentropy',metrics = ['accuracy'])"
      ],
      "execution_count": 11,
      "outputs": []
    },
    {
      "cell_type": "code",
      "metadata": {
        "colab": {
          "base_uri": "https://localhost:8080/"
        },
        "id": "XBG4HqjFzd0e",
        "outputId": "6883c14c-55d7-40df-b43b-db043582cbf6"
      },
      "source": [
        "model.fit(x_train,y_train,batch_size=128,epochs=10)"
      ],
      "execution_count": 12,
      "outputs": [
        {
          "output_type": "stream",
          "text": [
            "Epoch 1/10\n",
            "469/469 [==============================] - 30s 61ms/step - loss: 0.6281 - accuracy: 0.8032\n",
            "Epoch 2/10\n",
            "469/469 [==============================] - 29s 61ms/step - loss: 0.2078 - accuracy: 0.9382\n",
            "Epoch 3/10\n",
            "469/469 [==============================] - 28s 61ms/step - loss: 0.1622 - accuracy: 0.9529\n",
            "Epoch 4/10\n",
            "469/469 [==============================] - 28s 61ms/step - loss: 0.1472 - accuracy: 0.9571\n",
            "Epoch 5/10\n",
            "469/469 [==============================] - 29s 61ms/step - loss: 0.1291 - accuracy: 0.9612\n",
            "Epoch 6/10\n",
            "469/469 [==============================] - 28s 60ms/step - loss: 0.1352 - accuracy: 0.9601\n",
            "Epoch 7/10\n",
            "469/469 [==============================] - 28s 61ms/step - loss: 0.1184 - accuracy: 0.9647\n",
            "Epoch 8/10\n",
            "469/469 [==============================] - 28s 61ms/step - loss: 0.1162 - accuracy: 0.9660\n",
            "Epoch 9/10\n",
            "469/469 [==============================] - 28s 60ms/step - loss: 0.1082 - accuracy: 0.9682\n",
            "Epoch 10/10\n",
            "469/469 [==============================] - 29s 61ms/step - loss: 0.1010 - accuracy: 0.9708\n"
          ],
          "name": "stdout"
        },
        {
          "output_type": "execute_result",
          "data": {
            "text/plain": [
              "<tensorflow.python.keras.callbacks.History at 0x7f24f3062208>"
            ]
          },
          "metadata": {
            "tags": []
          },
          "execution_count": 12
        }
      ]
    },
    {
      "cell_type": "code",
      "metadata": {
        "colab": {
          "base_uri": "https://localhost:8080/"
        },
        "id": "5gCxS7Z2zhri",
        "outputId": "18510fc3-5051-4cac-eebb-0f39075c4e09"
      },
      "source": [
        "loss,acc = model.evaluate(x_test,y_test,batch_size = 128)"
      ],
      "execution_count": 13,
      "outputs": [
        {
          "output_type": "stream",
          "text": [
            "79/79 [==============================] - 3s 33ms/step - loss: 0.0769 - accuracy: 0.9769\n"
          ],
          "name": "stdout"
        }
      ]
    },
    {
      "cell_type": "code",
      "metadata": {
        "colab": {
          "base_uri": "https://localhost:8080/"
        },
        "id": "TA-fdiVA0yjq",
        "outputId": "4785fbed-dcfd-4071-c567-2a6f94b5c81a"
      },
      "source": [
        "print(\" Model loss on test data is:\",loss)"
      ],
      "execution_count": 14,
      "outputs": [
        {
          "output_type": "stream",
          "text": [
            " Model loss on test data is: 0.07689759135246277\n"
          ],
          "name": "stdout"
        }
      ]
    },
    {
      "cell_type": "code",
      "metadata": {
        "id": "T5xm1C8x05Ey"
      },
      "source": [
        "print(\"Accuracy on test data is:\",acc*100)"
      ],
      "execution_count": null,
      "outputs": []
    }
  ]
}